{
 "cells": [
  {
   "cell_type": "markdown",
   "id": "6f37a972",
   "metadata": {},
   "source": [
    "Hola Mundo "
   ]
  },
  {
   "cell_type": "code",
   "execution_count": null,
   "id": "c7a4d061",
   "metadata": {},
   "outputs": [
    {
     "name": "stdout",
     "output_type": "stream",
     "text": [
      "Hola desde el mas alla\n"
     ]
    }
   ],
   "source": [
    "print(\"Hola desde el mas alla\")"
   ]
  }
 ],
 "metadata": {
  "kernelspec": {
   "display_name": "venv_jupyter",
   "language": "python",
   "name": "python3"
  },
  "language_info": {
   "codemirror_mode": {
    "name": "ipython",
    "version": 3
   },
   "file_extension": ".py",
   "mimetype": "text/x-python",
   "name": "python",
   "nbconvert_exporter": "python",
   "pygments_lexer": "ipython3",
   "version": "3.11.9"
  }
 },
 "nbformat": 4,
 "nbformat_minor": 5
}
